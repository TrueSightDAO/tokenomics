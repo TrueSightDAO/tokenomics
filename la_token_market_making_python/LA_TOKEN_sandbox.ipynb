{
 "cells": [
  {
   "cell_type": "code",
   "execution_count": 13,
   "id": "fe96316e-e62c-45da-9805-7072f3a43d0f",
   "metadata": {},
   "outputs": [
    {
     "name": "stdout",
     "output_type": "stream",
     "text": [
      "WIX_DAILY_BUDGET_DATA_ITEM_ID = 8f1c08f2-5ff8-4c40-8aee-4f5519e6b8a1\n"
     ]
    }
   ],
   "source": [
    "import os\n",
    "from dotenv import load_dotenv\n",
    "load_dotenv()\n",
    "import sys\n",
    "# Add current working directory to path for module imports\n",
    "sys.path.append(os.getcwd())\n",
    "# Show which WIX data item ID is being used\n",
    "print(\"WIX_DAILY_BUDGET_DATA_ITEM_ID =\", os.getenv(\"WIX_DAILY_BUDGET_DATA_ITEM_ID\"))\n"
   ]
  },
  {
   "cell_type": "code",
   "execution_count": 14,
   "id": "ca8a3aae-eb77-4dfc-8273-00a33c8f028a",
   "metadata": {},
   "outputs": [
    {
     "name": "stdout",
     "output_type": "stream",
     "text": [
      "Budget via WixClient: 0.798699\n",
      "Daily budget from WIX: 0.798699\n"
     ]
    }
   ],
   "source": [
    "# Instantiate WixClient with explicit credentials\n",
    "from wix_client import WixClient\n",
    "client = WixClient(\n",
    "    api_key=os.getenv(\"WIX_API_KEY\"),\n",
    "    daily_budget_item_id=os.getenv(\"WIX_DAILY_BUDGET_DATA_ITEM_ID\"),\n",
    "    account_id=os.getenv(\"WIX_ACCOUNT_ID\"),\n",
    "    site_id=os.getenv(\"WIX_SITE_ID\")\n",
    ")\n",
    "print(\"Budget via WixClient:\", client.get_daily_budget())\n",
    "\n",
    "# Test fetching daily budget from WIX\n",
    "from wix_client import get_daily_budget\n",
    "budget = get_daily_budget()\n",
    "print(f\"Daily budget from WIX: {budget}\")"
   ]
  },
  {
   "cell_type": "code",
   "execution_count": 15,
   "id": "dfc77364-7f14-457a-aef4-432cb55463b3",
   "metadata": {},
   "outputs": [
    {
     "name": "stdout",
     "output_type": "stream",
     "text": [
      "Top 5 bids:\n",
      "{'price': '0.00910000000', 'quantity': '175.62', 'cost': '1.59814200000', 'accumulated': '1.59814200000'}\n",
      "{'price': '0.00850299999', 'quantity': '351.09', 'cost': '2.9853182664891', 'accumulated': '4.5834602664891'}\n",
      "{'price': '0.00850200000', 'quantity': '25.00', 'cost': '0.21255000000', 'accumulated': '4.7960102664891'}\n",
      "{'price': '0.00811000000', 'quantity': '25.00', 'cost': '0.20275000000', 'accumulated': '4.9987602664891'}\n",
      "{'price': '0.00230100009', 'quantity': '480.52', 'cost': '1.1056765632468', 'accumulated': '6.1044368297359'}\n",
      "Top 5 asks:\n",
      "{'price': '0.03299000000', 'quantity': '30.06', 'cost': '0.99167940000', 'accumulated': '0.99167940000'}\n",
      "{'price': '0.03300000000', 'quantity': '292.32', 'cost': '9.64656000000', 'accumulated': '10.63823940000'}\n",
      "{'price': '0.03899900000', 'quantity': '20.84', 'cost': '0.81273916000', 'accumulated': '11.45097856000'}\n",
      "{'price': '0.04700000000', 'quantity': '138.52', 'cost': '6.51044000000', 'accumulated': '17.96141856000'}\n",
      "{'price': '0.04965700000', 'quantity': '51.21', 'cost': '2.54293497000', 'accumulated': '20.50435353000'}\n"
     ]
    }
   ],
   "source": [
    "# Test fetching order book from LATOKEN\n",
    "from latoken_client import get_order_book, LatokenClient\n",
    "import os\n",
    "# Read LATOKEN API credentials from environment\n",
    "api_key = os.getenv('LATOKEN_API_KEY')\n",
    "api_secret = os.getenv('LATOKEN_API_SECRET')\n",
    "# Setup SSH/SOCKS proxy on localhost:9999\n",
    "proxies = {'http': 'socks5://127.0.0.1:9999', 'https': 'socks5://127.0.0.1:9999'}\n",
    "proxy='socks5://127.0.0.1:9999'\n",
    "# Initialize LatokenClient with credentials and proxy settings\n",
    "client = LatokenClient(api_key=api_key, api_secret=api_secret, proxy=proxy)\n",
    "order_book = get_order_book(limit=10)\n",
    "print(\"Top 5 bids:\")\n",
    "for bid in order_book.get(\"bids\", [])[:5]:\n",
    "    print(bid)\n",
    "print(\"Top 5 asks:\")\n",
    "for ask in order_book.get(\"asks\", [])[:5]:\n",
    "    print(ask)"
   ]
  },
  {
   "cell_type": "code",
   "execution_count": 16,
   "id": "b698cf61-c4fe-40d6-8a28-fa2e570f9e81",
   "metadata": {},
   "outputs": [
    {
     "name": "stdout",
     "output_type": "stream",
     "text": [
      "Daily budget (USD): 0.798699\n",
      "Total TDG purchasable: 24.2103 TDG\n",
      "Total cost (USD): 0.7987 USD\n",
      "Average price (USD/TDG): 0.032990\n",
      "Purchase breakdown per ask level:\n",
      " - 24.2103 TDG @ 0.03299000 USD = 0.7987 USD\n"
     ]
    }
   ],
   "source": [
    "from wix_client import get_daily_budget\n",
    "from latoken_client import LatokenClient\n",
    "\n",
    "# Determine how many TDG to purchase today based on the daily budget and order book\n",
    "budget = get_daily_budget()  # USD\n",
    "client = LatokenClient()\n",
    "result = client.calculate_purchase_amount(budget, limit=50)\n",
    "\n",
    "# Only print when quantity is positive\n",
    "qty = result['total_quantity']\n",
    "if qty <= 0:\n",
    "    print('No TDG to purchase today (budget too low or no asks).')\n",
    "else:\n",
    "    print(f'Daily budget (USD): {budget:.6f}')\n",
    "    print(f'Total TDG purchasable: {qty:.4f} TDG')\n",
    "    print(f\"Total cost (USD): {result['total_cost']:.4f} USD\")\n",
    "    print(f\"Average price (USD/TDG): {result['average_price']:.6f}\")\n",
    "    print('Purchase breakdown per ask level:')\n",
    "    for entry in result['purchases']:\n",
    "        print(f\" - {entry['quantity']:.4f} TDG @ {entry['price']:.8f} USD = {entry['cost']:.4f} USD\")\n"
   ]
  },
  {
   "cell_type": "code",
   "execution_count": 17,
   "id": "0c16421b-4ba9-44e4-859b-26cf4b4d7eb5",
   "metadata": {},
   "outputs": [
    {
     "name": "stdout",
     "output_type": "stream",
     "text": [
      "Line 227\n"
     ]
    },
    {
     "ename": "JSONDecodeError",
     "evalue": "Expecting value: line 1 column 1 (char 0)",
     "output_type": "error",
     "traceback": [
      "\u001b[0;31m---------------------------------------------------------------------------\u001b[0m",
      "\u001b[0;31mJSONDecodeError\u001b[0m                           Traceback (most recent call last)",
      "File \u001b[0;32m~/Applications/tsd_ledger/la_token_market_making_python/venv/lib/python3.11/site-packages/requests/models.py:971\u001b[0m, in \u001b[0;36mResponse.json\u001b[0;34m(self, **kwargs)\u001b[0m\n\u001b[1;32m    970\u001b[0m \u001b[38;5;28;01mtry\u001b[39;00m:\n\u001b[0;32m--> 971\u001b[0m     \u001b[38;5;28;01mreturn\u001b[39;00m \u001b[43mcomplexjson\u001b[49m\u001b[38;5;241;43m.\u001b[39;49m\u001b[43mloads\u001b[49m\u001b[43m(\u001b[49m\u001b[38;5;28;43mself\u001b[39;49m\u001b[38;5;241;43m.\u001b[39;49m\u001b[43mtext\u001b[49m\u001b[43m,\u001b[49m\u001b[43m \u001b[49m\u001b[38;5;241;43m*\u001b[39;49m\u001b[38;5;241;43m*\u001b[39;49m\u001b[43mkwargs\u001b[49m\u001b[43m)\u001b[49m\n\u001b[1;32m    972\u001b[0m \u001b[38;5;28;01mexcept\u001b[39;00m JSONDecodeError \u001b[38;5;28;01mas\u001b[39;00m e:\n\u001b[1;32m    973\u001b[0m     \u001b[38;5;66;03m# Catch JSON-related errors and raise as requests.JSONDecodeError\u001b[39;00m\n\u001b[1;32m    974\u001b[0m     \u001b[38;5;66;03m# This aliases json.JSONDecodeError and simplejson.JSONDecodeError\u001b[39;00m\n",
      "File \u001b[0;32m~/.pyenv/versions/3.11.6/lib/python3.11/json/__init__.py:346\u001b[0m, in \u001b[0;36mloads\u001b[0;34m(s, cls, object_hook, parse_float, parse_int, parse_constant, object_pairs_hook, **kw)\u001b[0m\n\u001b[1;32m    343\u001b[0m \u001b[38;5;28;01mif\u001b[39;00m (\u001b[38;5;28mcls\u001b[39m \u001b[38;5;129;01mis\u001b[39;00m \u001b[38;5;28;01mNone\u001b[39;00m \u001b[38;5;129;01mand\u001b[39;00m object_hook \u001b[38;5;129;01mis\u001b[39;00m \u001b[38;5;28;01mNone\u001b[39;00m \u001b[38;5;129;01mand\u001b[39;00m\n\u001b[1;32m    344\u001b[0m         parse_int \u001b[38;5;129;01mis\u001b[39;00m \u001b[38;5;28;01mNone\u001b[39;00m \u001b[38;5;129;01mand\u001b[39;00m parse_float \u001b[38;5;129;01mis\u001b[39;00m \u001b[38;5;28;01mNone\u001b[39;00m \u001b[38;5;129;01mand\u001b[39;00m\n\u001b[1;32m    345\u001b[0m         parse_constant \u001b[38;5;129;01mis\u001b[39;00m \u001b[38;5;28;01mNone\u001b[39;00m \u001b[38;5;129;01mand\u001b[39;00m object_pairs_hook \u001b[38;5;129;01mis\u001b[39;00m \u001b[38;5;28;01mNone\u001b[39;00m \u001b[38;5;129;01mand\u001b[39;00m \u001b[38;5;129;01mnot\u001b[39;00m kw):\n\u001b[0;32m--> 346\u001b[0m     \u001b[38;5;28;01mreturn\u001b[39;00m \u001b[43m_default_decoder\u001b[49m\u001b[38;5;241;43m.\u001b[39;49m\u001b[43mdecode\u001b[49m\u001b[43m(\u001b[49m\u001b[43ms\u001b[49m\u001b[43m)\u001b[49m\n\u001b[1;32m    347\u001b[0m \u001b[38;5;28;01mif\u001b[39;00m \u001b[38;5;28mcls\u001b[39m \u001b[38;5;129;01mis\u001b[39;00m \u001b[38;5;28;01mNone\u001b[39;00m:\n",
      "File \u001b[0;32m~/.pyenv/versions/3.11.6/lib/python3.11/json/decoder.py:337\u001b[0m, in \u001b[0;36mJSONDecoder.decode\u001b[0;34m(self, s, _w)\u001b[0m\n\u001b[1;32m    333\u001b[0m \u001b[38;5;250m\u001b[39m\u001b[38;5;124;03m\"\"\"Return the Python representation of ``s`` (a ``str`` instance\u001b[39;00m\n\u001b[1;32m    334\u001b[0m \u001b[38;5;124;03mcontaining a JSON document).\u001b[39;00m\n\u001b[1;32m    335\u001b[0m \n\u001b[1;32m    336\u001b[0m \u001b[38;5;124;03m\"\"\"\u001b[39;00m\n\u001b[0;32m--> 337\u001b[0m obj, end \u001b[38;5;241m=\u001b[39m \u001b[38;5;28;43mself\u001b[39;49m\u001b[38;5;241;43m.\u001b[39;49m\u001b[43mraw_decode\u001b[49m\u001b[43m(\u001b[49m\u001b[43ms\u001b[49m\u001b[43m,\u001b[49m\u001b[43m \u001b[49m\u001b[43midx\u001b[49m\u001b[38;5;241;43m=\u001b[39;49m\u001b[43m_w\u001b[49m\u001b[43m(\u001b[49m\u001b[43ms\u001b[49m\u001b[43m,\u001b[49m\u001b[43m \u001b[49m\u001b[38;5;241;43m0\u001b[39;49m\u001b[43m)\u001b[49m\u001b[38;5;241;43m.\u001b[39;49m\u001b[43mend\u001b[49m\u001b[43m(\u001b[49m\u001b[43m)\u001b[49m\u001b[43m)\u001b[49m\n\u001b[1;32m    338\u001b[0m end \u001b[38;5;241m=\u001b[39m _w(s, end)\u001b[38;5;241m.\u001b[39mend()\n",
      "File \u001b[0;32m~/.pyenv/versions/3.11.6/lib/python3.11/json/decoder.py:355\u001b[0m, in \u001b[0;36mJSONDecoder.raw_decode\u001b[0;34m(self, s, idx)\u001b[0m\n\u001b[1;32m    354\u001b[0m \u001b[38;5;28;01mexcept\u001b[39;00m \u001b[38;5;167;01mStopIteration\u001b[39;00m \u001b[38;5;28;01mas\u001b[39;00m err:\n\u001b[0;32m--> 355\u001b[0m     \u001b[38;5;28;01mraise\u001b[39;00m JSONDecodeError(\u001b[38;5;124m\"\u001b[39m\u001b[38;5;124mExpecting value\u001b[39m\u001b[38;5;124m\"\u001b[39m, s, err\u001b[38;5;241m.\u001b[39mvalue) \u001b[38;5;28;01mfrom\u001b[39;00m \u001b[38;5;28;01mNone\u001b[39;00m\n\u001b[1;32m    356\u001b[0m \u001b[38;5;28;01mreturn\u001b[39;00m obj, end\n",
      "\u001b[0;31mJSONDecodeError\u001b[0m: Expecting value: line 1 column 1 (char 0)",
      "\nDuring handling of the above exception, another exception occurred:\n",
      "\u001b[0;31mJSONDecodeError\u001b[0m                           Traceback (most recent call last)",
      "Cell \u001b[0;32mIn[17], line 25\u001b[0m\n\u001b[1;32m     23\u001b[0m \u001b[38;5;66;03m# Override default LatokenClient to use SSH proxy and credentials\u001b[39;00m\n\u001b[1;32m     24\u001b[0m mm\u001b[38;5;241m.\u001b[39mlatoken \u001b[38;5;241m=\u001b[39m client\n\u001b[0;32m---> 25\u001b[0m response \u001b[38;5;241m=\u001b[39m \u001b[43mmm\u001b[49m\u001b[38;5;241;43m.\u001b[39;49m\u001b[43mopen_market_purchase\u001b[49m\u001b[43m(\u001b[49m\u001b[43mquantity\u001b[49m\u001b[38;5;241;43m=\u001b[39;49m\u001b[43mqty\u001b[49m\u001b[43m,\u001b[49m\u001b[43m \u001b[49m\u001b[43mprice\u001b[49m\u001b[38;5;241;43m=\u001b[39;49m\u001b[43mpurchase_price\u001b[49m\u001b[43m)\u001b[49m\n\u001b[1;32m     26\u001b[0m \u001b[38;5;28mprint\u001b[39m(\u001b[38;5;124m'\u001b[39m\u001b[38;5;124mLimit order response:\u001b[39m\u001b[38;5;124m'\u001b[39m, response)\n",
      "File \u001b[0;32m~/Applications/tsd_ledger/la_token_market_making_python/market_maker.py:116\u001b[0m, in \u001b[0;36mMarketMaker.open_market_purchase\u001b[0;34m(self, quantity, price, condition, client_order_id)\u001b[0m\n\u001b[1;32m    114\u001b[0m \u001b[38;5;28;01melse\u001b[39;00m:\n\u001b[1;32m    115\u001b[0m     logging\u001b[38;5;241m.\u001b[39minfo(\u001b[38;5;124m\"\u001b[39m\u001b[38;5;124mPlacing LIMIT BUY order: qty=\u001b[39m\u001b[38;5;132;01m%.8f\u001b[39;00m\u001b[38;5;124m TDG @ price=\u001b[39m\u001b[38;5;132;01m%.8f\u001b[39;00m\u001b[38;5;124m USD\u001b[39m\u001b[38;5;124m\"\u001b[39m, quantity, price)\n\u001b[0;32m--> 116\u001b[0m response \u001b[38;5;241m=\u001b[39m \u001b[38;5;28;43mself\u001b[39;49m\u001b[38;5;241;43m.\u001b[39;49m\u001b[43mlatoken\u001b[49m\u001b[38;5;241;43m.\u001b[39;49m\u001b[43mplace_order\u001b[49m\u001b[43m(\u001b[49m\n\u001b[1;32m    117\u001b[0m \u001b[43m    \u001b[49m\u001b[43mside\u001b[49m\u001b[38;5;241;43m=\u001b[39;49m\u001b[38;5;124;43m\"\u001b[39;49m\u001b[38;5;124;43mBUY\u001b[39;49m\u001b[38;5;124;43m\"\u001b[39;49m\u001b[43m,\u001b[49m\n\u001b[1;32m    118\u001b[0m \u001b[43m    \u001b[49m\u001b[43mquantity\u001b[49m\u001b[38;5;241;43m=\u001b[39;49m\u001b[43mquantity\u001b[49m\u001b[43m,\u001b[49m\n\u001b[1;32m    119\u001b[0m \u001b[43m    \u001b[49m\u001b[43mprice\u001b[49m\u001b[38;5;241;43m=\u001b[39;49m\u001b[43mprice\u001b[49m\u001b[43m,\u001b[49m\n\u001b[1;32m    120\u001b[0m \u001b[43m    \u001b[49m\u001b[43mcondition\u001b[49m\u001b[38;5;241;43m=\u001b[39;49m\u001b[43mcondition\u001b[49m\u001b[43m,\u001b[49m\n\u001b[1;32m    121\u001b[0m \u001b[43m    \u001b[49m\u001b[43mclient_order_id\u001b[49m\u001b[38;5;241;43m=\u001b[39;49m\u001b[43mclient_order_id\u001b[49m\u001b[43m,\u001b[49m\n\u001b[1;32m    122\u001b[0m \u001b[43m\u001b[49m\u001b[43m)\u001b[49m\n\u001b[1;32m    123\u001b[0m logging\u001b[38;5;241m.\u001b[39minfo(\u001b[38;5;124m\"\u001b[39m\u001b[38;5;124mOrder response: \u001b[39m\u001b[38;5;132;01m%s\u001b[39;00m\u001b[38;5;124m\"\u001b[39m, response)\n\u001b[1;32m    124\u001b[0m \u001b[38;5;28;01mreturn\u001b[39;00m response\n",
      "File \u001b[0;32m~/Applications/tsd_ledger/la_token_market_making_python/latoken_client.py:228\u001b[0m, in \u001b[0;36mLatokenClient.place_order\u001b[0;34m(self, side, quantity, price, condition, client_order_id)\u001b[0m\n\u001b[1;32m    226\u001b[0m resp\u001b[38;5;241m.\u001b[39mraise_for_status()\n\u001b[1;32m    227\u001b[0m \u001b[38;5;28mprint\u001b[39m(\u001b[38;5;124m\"\u001b[39m\u001b[38;5;124mLine 227\u001b[39m\u001b[38;5;124m\"\u001b[39m)\n\u001b[0;32m--> 228\u001b[0m \u001b[38;5;28mprint\u001b[39m(\u001b[43mresp\u001b[49m\u001b[38;5;241;43m.\u001b[39;49m\u001b[43mjson\u001b[49m\u001b[43m(\u001b[49m\u001b[43m)\u001b[49m)\n\u001b[1;32m    229\u001b[0m \u001b[38;5;28;01mtry\u001b[39;00m:\n\u001b[1;32m    230\u001b[0m     \u001b[38;5;28;01mreturn\u001b[39;00m resp\u001b[38;5;241m.\u001b[39mjson()\n",
      "File \u001b[0;32m~/Applications/tsd_ledger/la_token_market_making_python/venv/lib/python3.11/site-packages/requests/models.py:975\u001b[0m, in \u001b[0;36mResponse.json\u001b[0;34m(self, **kwargs)\u001b[0m\n\u001b[1;32m    971\u001b[0m     \u001b[38;5;28;01mreturn\u001b[39;00m complexjson\u001b[38;5;241m.\u001b[39mloads(\u001b[38;5;28mself\u001b[39m\u001b[38;5;241m.\u001b[39mtext, \u001b[38;5;241m*\u001b[39m\u001b[38;5;241m*\u001b[39mkwargs)\n\u001b[1;32m    972\u001b[0m \u001b[38;5;28;01mexcept\u001b[39;00m JSONDecodeError \u001b[38;5;28;01mas\u001b[39;00m e:\n\u001b[1;32m    973\u001b[0m     \u001b[38;5;66;03m# Catch JSON-related errors and raise as requests.JSONDecodeError\u001b[39;00m\n\u001b[1;32m    974\u001b[0m     \u001b[38;5;66;03m# This aliases json.JSONDecodeError and simplejson.JSONDecodeError\u001b[39;00m\n\u001b[0;32m--> 975\u001b[0m     \u001b[38;5;28;01mraise\u001b[39;00m RequestsJSONDecodeError(e\u001b[38;5;241m.\u001b[39mmsg, e\u001b[38;5;241m.\u001b[39mdoc, e\u001b[38;5;241m.\u001b[39mpos)\n",
      "\u001b[0;31mJSONDecodeError\u001b[0m: Expecting value: line 1 column 1 (char 0)"
     ]
    }
   ],
   "source": [
    "from market_maker import MarketMaker\n",
    "from latoken_client import get_order_book, LatokenClient\n",
    "\n",
    "# Fetch current order book and calculate a safe limit price (50% below lowest ask)\n",
    "# book = get_order_book(limit=10)\n",
    "# asks = book.get('asks', [])\n",
    "# if asks:\n",
    "#     lowest_ask = float(asks[0]['price'])\n",
    "#     purchase_price = lowest_ask * 0.5\n",
    "#     qty = 5.0  # specify desired TDG amount to buy\n",
    "#     mm = MarketMaker(interval=0)\n",
    "#     # Override default LatokenClient to use SSH proxy and credentials\n",
    "#     mm.latoken = client\n",
    "#     response = mm.open_market_purchase(quantity=qty, price=purchase_price, client_order_id='sandbox-limit')\n",
    "#     print('Limit order response:', response)\n",
    "# else:\n",
    "#     print('No asks available to determine purchase price.')\n",
    "\n",
    "\n",
    "purchase_price = 0.001\n",
    "qty = 5.0  # specify desired TDG amount to buy\n",
    "mm = MarketMaker(interval=0)\n",
    "# Override default LatokenClient to use SSH proxy and credentials\n",
    "mm.latoken = client\n",
    "response = mm.open_market_purchase(quantity=qty, price=purchase_price)\n",
    "print('Limit order response:', response)\n"
   ]
  },
  {
   "cell_type": "code",
   "execution_count": null,
   "id": "ad150b52-c5b8-45bb-8378-1a029301e700",
   "metadata": {},
   "outputs": [],
   "source": []
  }
 ],
 "metadata": {
  "kernelspec": {
   "display_name": "Python 3 (ipykernel)",
   "language": "python",
   "name": "python3"
  },
  "language_info": {
   "codemirror_mode": {
    "name": "ipython",
    "version": 3
   },
   "file_extension": ".py",
   "mimetype": "text/x-python",
   "name": "python",
   "nbconvert_exporter": "python",
   "pygments_lexer": "ipython3",
   "version": "3.11.6"
  }
 },
 "nbformat": 4,
 "nbformat_minor": 5
}
