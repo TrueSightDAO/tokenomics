{
 "cells": [
  {
   "cell_type": "code",
   "execution_count": 1,
   "id": "fe96316e-e62c-45da-9805-7072f3a43d0f",
   "metadata": {},
   "outputs": [
    {
     "name": "stdout",
     "output_type": "stream",
     "text": [
      "WIX_DAILY_BUDGET_DATA_ITEM_ID = 8f1c08f2-5ff8-4c40-8aee-4f5519e6b8a1\n"
     ]
    }
   ],
   "source": [
    "import os\n",
    "from dotenv import load_dotenv\n",
    "load_dotenv()\n",
    "import sys\n",
    "# Add current working directory to path for module imports\n",
    "sys.path.append(os.getcwd())\n",
    "# Show which WIX data item ID is being used\n",
    "print(\"WIX_DAILY_BUDGET_DATA_ITEM_ID =\", os.getenv(\"WIX_DAILY_BUDGET_DATA_ITEM_ID\"))\n"
   ]
  },
  {
   "cell_type": "code",
   "execution_count": 2,
   "id": "ca8a3aae-eb77-4dfc-8273-00a33c8f028a",
   "metadata": {},
   "outputs": [
    {
     "name": "stdout",
     "output_type": "stream",
     "text": [
      "Budget via WixClient: 0.798699\n",
      "Daily budget from WIX: 0.798699\n"
     ]
    }
   ],
   "source": [
    "# Instantiate WixClient with explicit credentials\n",
    "from wix_client import WixClient\n",
    "client = WixClient(\n",
    "    api_key=os.getenv(\"WIX_API_KEY\"),\n",
    "    daily_budget_item_id=os.getenv(\"WIX_DAILY_BUDGET_DATA_ITEM_ID\"),\n",
    "    account_id=os.getenv(\"WIX_ACCOUNT_ID\"),\n",
    "    site_id=os.getenv(\"WIX_SITE_ID\")\n",
    ")\n",
    "print(\"Budget via WixClient:\", client.get_daily_budget())\n",
    "\n",
    "# Test fetching daily budget from WIX\n",
    "from wix_client import get_daily_budget\n",
    "budget = get_daily_budget()\n",
    "print(f\"Daily budget from WIX: {budget}\")"
   ]
  },
  {
   "cell_type": "code",
   "execution_count": 3,
   "id": "dfc77364-7f14-457a-aef4-432cb55463b3",
   "metadata": {},
   "outputs": [
    {
     "name": "stdout",
     "output_type": "stream",
     "text": [
      "Top 5 bids:\n",
      "{'price': '0.00910000000', 'quantity': '175.62', 'cost': '1.59814200000', 'accumulated': '1.59814200000'}\n",
      "{'price': '0.00850299999', 'quantity': '351.09', 'cost': '2.9853182664891', 'accumulated': '4.5834602664891'}\n",
      "{'price': '0.00850200000', 'quantity': '25.00', 'cost': '0.21255000000', 'accumulated': '4.7960102664891'}\n",
      "{'price': '0.00811000000', 'quantity': '25.00', 'cost': '0.20275000000', 'accumulated': '4.9987602664891'}\n",
      "{'price': '0.00230100009', 'quantity': '480.52', 'cost': '1.1056765632468', 'accumulated': '6.1044368297359'}\n",
      "Top 5 asks:\n",
      "{'price': '0.03299000000', 'quantity': '30.06', 'cost': '0.99167940000', 'accumulated': '0.99167940000'}\n",
      "{'price': '0.03300000000', 'quantity': '292.32', 'cost': '9.64656000000', 'accumulated': '10.63823940000'}\n",
      "{'price': '0.03899900000', 'quantity': '20.84', 'cost': '0.81273916000', 'accumulated': '11.45097856000'}\n",
      "{'price': '0.04700000000', 'quantity': '138.52', 'cost': '6.51044000000', 'accumulated': '17.96141856000'}\n",
      "{'price': '0.04965700000', 'quantity': '51.21', 'cost': '2.54293497000', 'accumulated': '20.50435353000'}\n"
     ]
    }
   ],
   "source": [
    "# Test fetching order book from LATOKEN\n",
    "from latoken_client import get_order_book\n",
    "order_book = get_order_book(limit=10)\n",
    "print(\"Top 5 bids:\")\n",
    "for bid in order_book.get(\"bids\", [])[:5]:\n",
    "    print(bid)\n",
    "print(\"Top 5 asks:\")\n",
    "for ask in order_book.get(\"asks\", [])[:5]:\n",
    "    print(ask)"
   ]
  },
  {
   "cell_type": "code",
   "execution_count": 4,
   "id": "b698cf61-c4fe-40d6-8a28-fa2e570f9e81",
   "metadata": {},
   "outputs": [],
   "source": [
    "from wix_client import get_daily_budget\n",
    "from latoken_client import LatokenClient\n",
    "\n",
    "# Determine how many TDG to purchase today based on the daily budget and order book\n",
    "budget = get_daily_budget()  # USD\n",
    "client = LatokenClient()\n",
    "result = client.calculate_purchase_amount(budget, limit=50)\n",
    "\n",
    "# Only print when quantity is positive\n",
    "qty = result['total_quantity']\n",
    "if qty <= 0:\n",
    "    print('No TDG to purchase today (budget too low or no asks).')\n",
    "else:\n",
    "    print(f'Daily budget (USD): {budget:.6f}')\n",
    "    print(f'Total TDG purchasable: {qty:.4f} TDG')\n",
    "    print(f\"Total cost (USD): {result['total_cost']:.4f} USD\")\n",
    "    print(f\"Average price (USD/TDG): {result['average_price']:.6f}\")\n",
    "    print('Purchase breakdown per ask level:')\n",
    "    for entry in result['purchases']:\n",
    "        print(f\" - {entry['quantity']:.4f} TDG @ {entry['price']:.8f} USD = {entry['cost']:.4f} USD\")\n"
   ]
  },
  {
   "cell_type": "code",
   "execution_count": null,
   "id": "0c16421b-4ba9-44e4-859b-26cf4b4d7eb5",
   "metadata": {},
   "outputs": [],
   "source": []
  }
 ],
 "metadata": {
  "kernelspec": {
   "display_name": "Python 3 (ipykernel)",
   "language": "python",
   "name": "python3"
  },
  "language_info": {
   "codemirror_mode": {
    "name": "ipython",
    "version": 3
   },
   "file_extension": ".py",
   "mimetype": "text/x-python",
   "name": "python",
   "nbconvert_exporter": "python",
   "pygments_lexer": "ipython3",
   "version": "3.11.6"
  }
 },
 "nbformat": 4,
 "nbformat_minor": 5
}
