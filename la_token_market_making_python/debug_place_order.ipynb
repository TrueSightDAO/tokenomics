{
 "cells": [
  {
   "cell_type": "code",
   "execution_count": null,
   "id": "64c41286",
   "metadata": {},
   "outputs": [],
   "source": [
    "# If you see 'Missing dependencies for SOCKS support', install PySocks%pip install pysocks requests[socks]"
   ]
  },
  {
   "cell_type": "code",
   "execution_count": 9,
   "id": "786507ef-653e-43a9-b367-3d0d60a758ce",
   "metadata": {},
   "outputs": [],
   "source": [
    "#!/usr/bin/env python3\n",
    "\"\"\"\n",
    "Debug script: direct LIMIT BUY order to LATOKEN API at price 0.001 USD for 5 TDG units.\n",
    "\"\"\"\n",
    "import os\n",
    "import time\n",
    "import json\n",
    "import hmac\n",
    "import hashlib\n",
    "import requests\n",
    "\n",
    "from dotenv import load_dotenv\n",
    "load_dotenv()\n",
    "\n",
    "\n",
    "# Load credentials and trading pair IDs from environment\n",
    "api_key     = os.getenv(\"LATOKEN_API_KEY\")\n",
    "api_secret  = os.getenv(\"LATOKEN_API_SECRET\")\n",
    "base_url    = os.getenv(\"LATOKEN_BASE_URL\", \"https://api.latoken.com\")\n",
    "currency_id = os.getenv(\"LATOKEN_CURRENCY_ID\")\n",
    "quote_id    = os.getenv(\"LATOKEN_QUOTE_ID\")"
   ]
  },
  {
   "cell_type": "code",
   "execution_count": 10,
   "id": "c8e5a8f3-570a-4633-bf97-b1c1728e44a2",
   "metadata": {},
   "outputs": [
    {
     "name": "stdout",
     "output_type": "stream",
     "text": [
      "b135be25-3040-44db-bd81-38f2e2ea5914\n"
     ]
    }
   ],
   "source": [
    "print(api_key)"
   ]
  },
  {
   "cell_type": "code",
   "execution_count": 14,
   "id": "091b82fd-4924-460c-b2a5-eea9fbaa8a44",
   "metadata": {},
   "outputs": [
    {
     "ename": "TypeError",
     "evalue": "key: expected bytes or bytearray, but got 'str'",
     "output_type": "error",
     "traceback": [
      "\u001b[0;31m---------------------------------------------------------------------------\u001b[0m",
      "\u001b[0;31mTypeError\u001b[0m                                 Traceback (most recent call last)",
      "Cell \u001b[0;32mIn[14], line 34\u001b[0m\n\u001b[1;32m     31\u001b[0m serializeFunc \u001b[38;5;241m=\u001b[39m \u001b[38;5;28mmap\u001b[39m(\u001b[38;5;28;01mlambda\u001b[39;00m it : it[\u001b[38;5;241m0\u001b[39m] \u001b[38;5;241m+\u001b[39m \u001b[38;5;124m'\u001b[39m\u001b[38;5;124m=\u001b[39m\u001b[38;5;124m'\u001b[39m \u001b[38;5;241m+\u001b[39m \u001b[38;5;28mstr\u001b[39m(it[\u001b[38;5;241m1\u001b[39m]), params\u001b[38;5;241m.\u001b[39mitems())\n\u001b[1;32m     32\u001b[0m bodyParams \u001b[38;5;241m=\u001b[39m \u001b[38;5;124m'\u001b[39m\u001b[38;5;124m&\u001b[39m\u001b[38;5;124m'\u001b[39m\u001b[38;5;241m.\u001b[39mjoin(serializeFunc)\n\u001b[0;32m---> 34\u001b[0m signature \u001b[38;5;241m=\u001b[39m \u001b[43mhmac\u001b[49m\u001b[38;5;241;43m.\u001b[39;49m\u001b[43mnew\u001b[49m\u001b[43m(\u001b[49m\n\u001b[1;32m     35\u001b[0m \u001b[43m    \u001b[49m\u001b[43mapiSecret\u001b[49m\u001b[43m,\u001b[49m\u001b[43m \u001b[49m\n\u001b[1;32m     36\u001b[0m \u001b[43m    \u001b[49m\u001b[43m(\u001b[49m\u001b[38;5;124;43m'\u001b[39;49m\u001b[38;5;124;43mPOST\u001b[39;49m\u001b[38;5;124;43m'\u001b[39;49m\u001b[43m \u001b[49m\u001b[38;5;241;43m+\u001b[39;49m\u001b[43m \u001b[49m\u001b[43mendpoint\u001b[49m\u001b[43m \u001b[49m\u001b[38;5;241;43m+\u001b[39;49m\u001b[43m \u001b[49m\u001b[43mbodyParams\u001b[49m\u001b[43m)\u001b[49m\u001b[38;5;241;43m.\u001b[39;49m\u001b[43mencode\u001b[49m\u001b[43m(\u001b[49m\u001b[38;5;124;43m'\u001b[39;49m\u001b[38;5;124;43mascii\u001b[39;49m\u001b[38;5;124;43m'\u001b[39;49m\u001b[43m)\u001b[49m\u001b[43m,\u001b[49m\u001b[43m \u001b[49m\n\u001b[1;32m     37\u001b[0m \u001b[43m    \u001b[49m\u001b[43mhashlib\u001b[49m\u001b[38;5;241;43m.\u001b[39;49m\u001b[43msha512\u001b[49m\n\u001b[1;32m     38\u001b[0m \u001b[43m)\u001b[49m\n\u001b[1;32m     40\u001b[0m url \u001b[38;5;241m=\u001b[39m baseUrl \u001b[38;5;241m+\u001b[39m endpoint\n\u001b[1;32m     42\u001b[0m response \u001b[38;5;241m=\u001b[39m requests\u001b[38;5;241m.\u001b[39mpost(\n\u001b[1;32m     43\u001b[0m     url,\n\u001b[1;32m     44\u001b[0m     headers \u001b[38;5;241m=\u001b[39m {\n\u001b[0;32m   (...)\u001b[0m\n\u001b[1;32m     50\u001b[0m     json \u001b[38;5;241m=\u001b[39m params\n\u001b[1;32m     51\u001b[0m )\n",
      "File \u001b[0;32m~/.pyenv/versions/3.11.6/lib/python3.11/hmac.py:184\u001b[0m, in \u001b[0;36mnew\u001b[0;34m(key, msg, digestmod)\u001b[0m\n\u001b[1;32m    167\u001b[0m \u001b[38;5;28;01mdef\u001b[39;00m \u001b[38;5;21mnew\u001b[39m(key, msg\u001b[38;5;241m=\u001b[39m\u001b[38;5;28;01mNone\u001b[39;00m, digestmod\u001b[38;5;241m=\u001b[39m\u001b[38;5;124m'\u001b[39m\u001b[38;5;124m'\u001b[39m):\n\u001b[1;32m    168\u001b[0m \u001b[38;5;250m    \u001b[39m\u001b[38;5;124;03m\"\"\"Create a new hashing object and return it.\u001b[39;00m\n\u001b[1;32m    169\u001b[0m \n\u001b[1;32m    170\u001b[0m \u001b[38;5;124;03m    key: bytes or buffer, The starting key for the hash.\u001b[39;00m\n\u001b[0;32m   (...)\u001b[0m\n\u001b[1;32m    182\u001b[0m \u001b[38;5;124;03m    or hexdigest() methods.\u001b[39;00m\n\u001b[1;32m    183\u001b[0m \u001b[38;5;124;03m    \"\"\"\u001b[39;00m\n\u001b[0;32m--> 184\u001b[0m     \u001b[38;5;28;01mreturn\u001b[39;00m \u001b[43mHMAC\u001b[49m\u001b[43m(\u001b[49m\u001b[43mkey\u001b[49m\u001b[43m,\u001b[49m\u001b[43m \u001b[49m\u001b[43mmsg\u001b[49m\u001b[43m,\u001b[49m\u001b[43m \u001b[49m\u001b[43mdigestmod\u001b[49m\u001b[43m)\u001b[49m\n",
      "File \u001b[0;32m~/.pyenv/versions/3.11.6/lib/python3.11/hmac.py:53\u001b[0m, in \u001b[0;36mHMAC.__init__\u001b[0;34m(self, key, msg, digestmod)\u001b[0m\n\u001b[1;32m     39\u001b[0m \u001b[38;5;250m\u001b[39m\u001b[38;5;124;03m\"\"\"Create a new HMAC object.\u001b[39;00m\n\u001b[1;32m     40\u001b[0m \n\u001b[1;32m     41\u001b[0m \u001b[38;5;124;03mkey: bytes or buffer, key for the keyed hash object.\u001b[39;00m\n\u001b[0;32m   (...)\u001b[0m\n\u001b[1;32m     49\u001b[0m \u001b[38;5;124;03m           recommended, though not required for legacy API reasons.\u001b[39;00m\n\u001b[1;32m     50\u001b[0m \u001b[38;5;124;03m\"\"\"\u001b[39;00m\n\u001b[1;32m     52\u001b[0m \u001b[38;5;28;01mif\u001b[39;00m \u001b[38;5;129;01mnot\u001b[39;00m \u001b[38;5;28misinstance\u001b[39m(key, (\u001b[38;5;28mbytes\u001b[39m, \u001b[38;5;28mbytearray\u001b[39m)):\n\u001b[0;32m---> 53\u001b[0m     \u001b[38;5;28;01mraise\u001b[39;00m \u001b[38;5;167;01mTypeError\u001b[39;00m(\u001b[38;5;124m\"\u001b[39m\u001b[38;5;124mkey: expected bytes or bytearray, but got \u001b[39m\u001b[38;5;132;01m%r\u001b[39;00m\u001b[38;5;124m\"\u001b[39m \u001b[38;5;241m%\u001b[39m \u001b[38;5;28mtype\u001b[39m(key)\u001b[38;5;241m.\u001b[39m\u001b[38;5;18m__name__\u001b[39m)\n\u001b[1;32m     55\u001b[0m \u001b[38;5;28;01mif\u001b[39;00m \u001b[38;5;129;01mnot\u001b[39;00m digestmod:\n\u001b[1;32m     56\u001b[0m     \u001b[38;5;28;01mraise\u001b[39;00m \u001b[38;5;167;01mTypeError\u001b[39;00m(\u001b[38;5;124m\"\u001b[39m\u001b[38;5;124mMissing required parameter \u001b[39m\u001b[38;5;124m'\u001b[39m\u001b[38;5;124mdigestmod\u001b[39m\u001b[38;5;124m'\u001b[39m\u001b[38;5;124m.\u001b[39m\u001b[38;5;124m\"\u001b[39m)\n",
      "\u001b[0;31mTypeError\u001b[0m: key: expected bytes or bytearray, but got 'str'"
     ]
    }
   ],
   "source": [
    "# Configure proxy (set LATOKEN_PROXY=socks5://127.0.0.1:9999)\n",
    "proxy_url = os.getenv(\"LATOKEN_PROXY\", \"socks5://127.0.0.1:9999\")\n",
    "session = requests.Session()\n",
    "session.proxies.update({\"http\": proxy_url, \"https\": proxy_url})\n",
    "print(\"Using proxy:\", session.proxies)\n",
    "\n",
    "# Debug order parameters\n",
    "purchase_price = 0.001  # USD per TDG\n",
    "quantity       = 5.0    # TDG to buy\n",
    "\n",
    "# Construct payload for limit BUY order\n",
    "payload = {\n",
    "    \"baseCurrency\":  currency_id,\n",
    "    \"quoteCurrency\": quote_id,\n",
    "    \"side\":          \"BUY\",\n",
    "    \"type\":          \"LIMIT\",\n",
    "    \"condition\":     \"GTC\",\n",
    "    \"quantity\":      str(quantity),\n",
    "    \"price\":         str(purchase_price),\n",
    "    \"timestamp\":     int(time.time()),\n",
    "}\n",
    "body = json.dumps(payload, separators=(\",\", \":\"), ensure_ascii=False)\n",
    "\n",
    "# Sign request with HMAC-SHA512\n",
    "signature = hmac.new(\n",
    "    api_secret.encode(\"utf-8\"),\n",
    "    body.encode(\"utf-8\"),\n",
    "    hashlib.sha512\n",
    ").hexdigest()\n",
    "headers = {\n",
    "    \"X-LA-APIKEY\":    api_key,\n",
    "    \"X-LA-SIGNATURE\": signature,\n",
    "    \"Content-Type\":   \"application/json\",\n",
    "}\n",
    "\n",
    "# Send HTTP POST to /v2/order\n",
    "url = f\"{base_url}/v2/order\"\n",
    "print(\"POST →\", url)\n",
    "print(\"Headers:\", headers)\n",
    "print(\"Body:\\n\", body)\n",
    "resp = session.post(url, headers=headers, data=body)\n",
    "print(\"Status code:\", resp.status_code)\n",
    "try:\n",
    "    print(\"Response JSON:\\n\", resp.json())\n",
    "except ValueError:\n",
    "    print(\"Response text:\\n\", resp.text)"
   ]
  },
  {
   "cell_type": "code",
   "execution_count": null,
   "id": "8d154d0c-5f0c-43b6-ae00-e18fb504c109",
   "metadata": {},
   "outputs": [],
   "source": []
  }
 ],
 "metadata": {
  "kernelspec": {
   "display_name": "Python 3 (ipykernel)",
   "language": "python",
   "name": "python3"
  },
  "language_info": {
   "codemirror_mode": {
    "name": "ipython",
    "version": 3
   },
   "file_extension": ".py",
   "mimetype": "text/x-python",
   "name": "python",
   "nbconvert_exporter": "python",
   "pygments_lexer": "ipython3",
   "version": "3.11.6"
  }
 },
 "nbformat": 4,
 "nbformat_minor": 5
}
